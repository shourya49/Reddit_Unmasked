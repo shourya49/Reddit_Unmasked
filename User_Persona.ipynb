{
 "cells": [
  {
   "cell_type": "markdown",
   "id": "d9cf991f-4d6c-4ffa-8b8d-6663440b0e5c",
   "metadata": {},
   "source": [
    "# Installing Dependecies"
   ]
  },
  {
   "cell_type": "code",
   "execution_count": null,
   "id": "90c578ba-2eed-48cf-a30d-58aa2b392735",
   "metadata": {},
   "outputs": [],
   "source": [
    "# Install all required libraries\n",
    "!pip install -q langchain langchain-community pandas"
   ]
  },
  {
   "cell_type": "markdown",
   "id": "f066e8ae-8da7-42e7-9f1d-58fcba99572b",
   "metadata": {},
   "source": [
    "# Loading the Data"
   ]
  },
  {
   "cell_type": "markdown",
   "id": "82e7ed73-ad6f-4d7d-bbcf-6159f57578cd",
   "metadata": {},
   "source": [
    "## Provide Path to the csv files storing the post and comments data of the user"
   ]
  },
  {
   "cell_type": "code",
   "execution_count": 14,
   "id": "8cbe92d0-a4e9-48d2-8efb-c49e64cf8208",
   "metadata": {},
   "outputs": [],
   "source": [
    "import pandas as pd\n",
    "post_path = \n",
    "comment_path = \n",
    "df = pd.read_csv(post_path)\n",
    "new_df = pd.read_csv(comment_path)"
   ]
  },
  {
   "cell_type": "code",
   "execution_count": 15,
   "id": "2374f7c5-9388-48c9-9a4e-24647192ec18",
   "metadata": {},
   "outputs": [],
   "source": [
    "# Removing the rows where Post content is being removed\n",
    "filt = (df['postContent'] != '❌ Post content not found.')\n",
    "# New data_frame\n",
    "df = df[filt]"
   ]
  },
  {
   "cell_type": "code",
   "execution_count": 16,
   "id": "7cedbf1a-8d47-430b-9f3d-f95b732d9438",
   "metadata": {},
   "outputs": [
    {
     "data": {
      "text/html": [
       "<div>\n",
       "<style scoped>\n",
       "    .dataframe tbody tr th:only-of-type {\n",
       "        vertical-align: middle;\n",
       "    }\n",
       "\n",
       "    .dataframe tbody tr th {\n",
       "        vertical-align: top;\n",
       "    }\n",
       "\n",
       "    .dataframe thead th {\n",
       "        text-align: right;\n",
       "    }\n",
       "</style>\n",
       "<table border=\"1\" class=\"dataframe\">\n",
       "  <thead>\n",
       "    <tr style=\"text-align: right;\">\n",
       "      <th></th>\n",
       "      <th>postTitle</th>\n",
       "      <th>postContent</th>\n",
       "    </tr>\n",
       "  </thead>\n",
       "  <tbody>\n",
       "    <tr>\n",
       "      <th>0</th>\n",
       "      <td>I feel violated by intern season</td>\n",
       "      <td>There's this bar that I frequent a few blocks ...</td>\n",
       "    </tr>\n",
       "    <tr>\n",
       "      <th>5</th>\n",
       "      <td>What’s a movie that best represents your child...</td>\n",
       "      <td>There's so many coming of age movies for boome...</td>\n",
       "    </tr>\n",
       "    <tr>\n",
       "      <th>7</th>\n",
       "      <td>Best blogs, tutorial channels to learn</td>\n",
       "      <td>Hey I’m an iOS developer building in visionOS....</td>\n",
       "    </tr>\n",
       "    <tr>\n",
       "      <th>9</th>\n",
       "      <td>Watching Edgerunners on the moon feels</td>\n",
       "      <td>Thank youu/overpaidengineerfor the inspo</td>\n",
       "    </tr>\n",
       "    <tr>\n",
       "      <th>10</th>\n",
       "      <td>Killer feature: accessing chatGPT (iPad app) a...</td>\n",
       "      <td>I just find this to be much easier than doing ...</td>\n",
       "    </tr>\n",
       "    <tr>\n",
       "      <th>11</th>\n",
       "      <td>Would you guys like to see Pokemon Go in AVP?</td>\n",
       "      <td>Hi guys,\\n\\nI think Pokemon could be one of th...</td>\n",
       "    </tr>\n",
       "    <tr>\n",
       "      <th>12</th>\n",
       "      <td>Can you actually “work” in AVP?</td>\n",
       "      <td>I’m curious if people have been able to fully ...</td>\n",
       "    </tr>\n",
       "    <tr>\n",
       "      <th>13</th>\n",
       "      <td>【Theory】 What if we live in the void 800 century</td>\n",
       "      <td>Let’s say the WG is the current western civili...</td>\n",
       "    </tr>\n",
       "    <tr>\n",
       "      <th>18</th>\n",
       "      <td>Do you guys prefer earphones with cables? Why ...</td>\n",
       "      <td>Is it the retro look? Is the the convenience o...</td>\n",
       "    </tr>\n",
       "    <tr>\n",
       "      <th>19</th>\n",
       "      <td>Tracking our individual impacts on the world t...</td>\n",
       "      <td>\\n\\n\\n\\nWe've had ESG ratings for decades now,...</td>\n",
       "    </tr>\n",
       "    <tr>\n",
       "      <th>20</th>\n",
       "      <td>How do you decide what to buy and not buy?</td>\n",
       "      <td>I've been lurking in this channel for a while ...</td>\n",
       "    </tr>\n",
       "    <tr>\n",
       "      <th>21</th>\n",
       "      <td>English ivy in critical condition</td>\n",
       "      <td>I’ve had this baby for two months now, and all...</td>\n",
       "    </tr>\n",
       "    <tr>\n",
       "      <th>23</th>\n",
       "      <td>50k at a time?</td>\n",
       "      <td>I want to transfer from Robinhood, but WB only...</td>\n",
       "    </tr>\n",
       "    <tr>\n",
       "      <th>24</th>\n",
       "      <td>Still buying options?</td>\n",
       "      <td>I’ve been trading options for the past month o...</td>\n",
       "    </tr>\n",
       "    <tr>\n",
       "      <th>30</th>\n",
       "      <td>Funeral stocks, yay or nay?</td>\n",
       "      <td>Trying to look ahead of the market here. The Z...</td>\n",
       "    </tr>\n",
       "  </tbody>\n",
       "</table>\n",
       "</div>"
      ],
      "text/plain": [
       "                                            postTitle  \\\n",
       "0                    I feel violated by intern season   \n",
       "5   What’s a movie that best represents your child...   \n",
       "7              Best blogs, tutorial channels to learn   \n",
       "9              Watching Edgerunners on the moon feels   \n",
       "10  Killer feature: accessing chatGPT (iPad app) a...   \n",
       "11      Would you guys like to see Pokemon Go in AVP?   \n",
       "12                    Can you actually “work” in AVP?   \n",
       "13   【Theory】 What if we live in the void 800 century   \n",
       "18  Do you guys prefer earphones with cables? Why ...   \n",
       "19  Tracking our individual impacts on the world t...   \n",
       "20         How do you decide what to buy and not buy?   \n",
       "21                  English ivy in critical condition   \n",
       "23                                     50k at a time?   \n",
       "24                              Still buying options?   \n",
       "30                        Funeral stocks, yay or nay?   \n",
       "\n",
       "                                          postContent  \n",
       "0   There's this bar that I frequent a few blocks ...  \n",
       "5   There's so many coming of age movies for boome...  \n",
       "7   Hey I’m an iOS developer building in visionOS....  \n",
       "9            Thank youu/overpaidengineerfor the inspo  \n",
       "10  I just find this to be much easier than doing ...  \n",
       "11  Hi guys,\\n\\nI think Pokemon could be one of th...  \n",
       "12  I’m curious if people have been able to fully ...  \n",
       "13  Let’s say the WG is the current western civili...  \n",
       "18  Is it the retro look? Is the the convenience o...  \n",
       "19  \\n\\n\\n\\nWe've had ESG ratings for decades now,...  \n",
       "20  I've been lurking in this channel for a while ...  \n",
       "21  I’ve had this baby for two months now, and all...  \n",
       "23  I want to transfer from Robinhood, but WB only...  \n",
       "24  I’ve been trading options for the past month o...  \n",
       "30  Trying to look ahead of the market here. The Z...  "
      ]
     },
     "execution_count": 16,
     "metadata": {},
     "output_type": "execute_result"
    }
   ],
   "source": [
    "df[['postTitle','postContent']]"
   ]
  },
  {
   "cell_type": "code",
   "execution_count": 17,
   "id": "ec16604d-6814-4230-b228-c698c0f58707",
   "metadata": {},
   "outputs": [
    {
     "data": {
      "text/plain": [
       "0      Sorry to hear that man, in the future you may ...\n",
       "1         Yeah but it doesn’t seem to affect much though\n",
       "2      Incredible stuff! How did you maintain charact...\n",
       "3      I do too but I rarely finish a game haha. Too ...\n",
       "4      I do too but I rarely finish a game haha. Too ...\n",
       "                             ...                        \n",
       "323               Where in California is this ship held?\n",
       "324    This is inaccurate. The diamond cruise account...\n",
       "325    Downtown SF (harvest urban market) - there’s l...\n",
       "326                                             Looooool\n",
       "327    It’ll be cool if this community took off.I’m J...\n",
       "Name: commentBody, Length: 328, dtype: object"
      ]
     },
     "execution_count": 17,
     "metadata": {},
     "output_type": "execute_result"
    }
   ],
   "source": [
    "new_df['commentBody']"
   ]
  },
  {
   "cell_type": "markdown",
   "id": "d9e9c1a1-390d-49b7-afdd-435e135cdd2b",
   "metadata": {},
   "source": [
    "# Calling Model and typing Prompt"
   ]
  },
  {
   "cell_type": "markdown",
   "id": "1dca0015-73db-43ed-8c0d-ca9322ba7685",
   "metadata": {},
   "source": [
    "---"
   ]
  },
  {
   "cell_type": "markdown",
   "id": "28889386-621a-467b-af23-a3fb11e3a4ce",
   "metadata": {},
   "source": [
    "##  Setup Instructions for Local LLaMA 3 (Ollama)\n",
    "\n",
    "This notebook uses the `llama3` model via **Ollama**, a tool that lets you run large language models locally without needing an OpenAI API key.\n",
    "\n",
    "###  Steps to Use This Notebook\n",
    "\n",
    "1. **Install Ollama** (if not already):\n",
    "   - Download from: https://ollama.com\n",
    "   - Follow the installation steps for your operating system.\n",
    "\n",
    "2. **Pull the LLaMA 3 model locally**:\n",
    "   Open your terminal or command prompt and run:<br>\n",
    "   \n",
    "   ollama pull llama3\n",
    "\n",
    "   \n",
    "This will download the model (~4–8GB depending on version).\n",
    "\n",
    "3. **Start the Ollama server**:\n",
    "In the terminal, run:\n",
    "\n",
    "ollama run llama3\n",
    "\n",
    "This will start the model server on `http://localhost:11434`. Keep this terminal running in the background.\n",
    "\n",
    "4.  **Now you can run the code cell below** to use LLaMA 3 locally with LangChain.\n",
    "\n",
    ">  Note: Once the model is pulled, no internet connection is required — all generation happens locally.\n",
    "\n",
    "\n"
   ]
  },
  {
   "cell_type": "code",
   "execution_count": 21,
   "id": "e1e21486-0e4c-4ef4-a7b3-d58a1c830000",
   "metadata": {},
   "outputs": [],
   "source": [
    "from langchain_community.llms import Ollama\n",
    "from langchain.prompts import PromptTemplate\n",
    "from langchain.chains import LLMChain\n",
    "\n",
    "# Connect to local LLM (Ollama must be running)\n",
    "llm = Ollama(model=\"llama3\")  \n",
    "\n",
    "# Prompt Template\n",
    "prompt = PromptTemplate(\n",
    "    input_variables=['post_content', 'comments'],\n",
    "    template=\"\"\"\n",
    "The task is to generate a user persona of a Reddit user given his posts and comments.\n",
    "\n",
    "Reddit User Posts and Comments:\n",
    "User_Post_Content: {post_content}\n",
    "User_Comments : {comments}\n",
    "\n",
    "Find a rough guess of all the below infomation about user given his posts and comments:\n",
    "- Possible Age\n",
    "- Possible Occupation\n",
    "- Possible Marital Status\n",
    "- Possible Location\n",
    "- Personality include things like introvert/extrovert, perceiving/judging, Intution/Sensing, Feeling/Thinking\n",
    "- Behaviour and habits\n",
    "- Goals and Needs\n",
    "- Frustrations\n",
    "\n",
    "Also list the posts and comments which you used to infer about him.\n",
    "\n",
    "\"\"\"\n",
    ")\n",
    "\n",
    "# Build chain\n",
    "chain = LLMChain(llm=llm, prompt=prompt)\n",
    "\n"
   ]
  },
  {
   "cell_type": "markdown",
   "id": "05baf101-3048-429d-be6e-b5e46330d572",
   "metadata": {},
   "source": [
    "# Generating Output"
   ]
  },
  {
   "cell_type": "code",
   "execution_count": 22,
   "id": "3c783feb-a7eb-4438-a624-d9a17fe2669f",
   "metadata": {},
   "outputs": [],
   "source": [
    "output = chain.run({\n",
    "    \"post_content\": df[\"postContent\"].tolist() ,\n",
    "    \"comments\": new_df['commentBody'].tolist()\n",
    "})\n"
   ]
  },
  {
   "cell_type": "markdown",
   "id": "a1329141-5db0-4aa0-b0f5-2e16ab5a7fdb",
   "metadata": {},
   "source": [
    "# Saving the Output as text file"
   ]
  },
  {
   "cell_type": "markdown",
   "id": "30d28b3e-e931-492d-8aeb-41d1b71ebc25",
   "metadata": {},
   "source": [
    "## Provide the name of the file in which you want to store the ouput"
   ]
  },
  {
   "cell_type": "code",
   "execution_count": 23,
   "id": "b8e09076-50a4-4e7a-a8bd-7a0464cd4b5f",
   "metadata": {},
   "outputs": [],
   "source": [
    "file_name = \n",
    "with open(file_name, \"w\", encoding=\"utf-8\") as f:\n",
    "    f.write(output)"
   ]
  }
 ],
 "metadata": {
  "kernelspec": {
   "display_name": "Python 3 (ipykernel)",
   "language": "python",
   "name": "python3"
  },
  "language_info": {
   "codemirror_mode": {
    "name": "ipython",
    "version": 3
   },
   "file_extension": ".py",
   "mimetype": "text/x-python",
   "name": "python",
   "nbconvert_exporter": "python",
   "pygments_lexer": "ipython3",
   "version": "3.12.3"
  }
 },
 "nbformat": 4,
 "nbformat_minor": 5
}
